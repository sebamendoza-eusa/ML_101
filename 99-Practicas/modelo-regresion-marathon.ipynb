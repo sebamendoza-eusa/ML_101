{
 "cells": [
  {
   "cell_type": "code",
   "execution_count": 1,
   "id": "9567526b",
   "metadata": {
    "_cell_guid": "b1076dfc-b9ad-4769-8c92-a6c4dae69d19",
    "_uuid": "8f2839f25d086af736a60e9eeb907d3b93b6e0e5",
    "execution": {
     "iopub.execute_input": "2024-10-16T10:00:27.511527Z",
     "iopub.status.busy": "2024-10-16T10:00:27.510994Z",
     "iopub.status.idle": "2024-10-16T10:00:28.598153Z",
     "shell.execute_reply": "2024-10-16T10:00:28.596647Z"
    },
    "papermill": {
     "duration": 1.10651,
     "end_time": "2024-10-16T10:00:28.600780",
     "exception": false,
     "start_time": "2024-10-16T10:00:27.494270",
     "status": "completed"
    },
    "tags": []
   },
   "outputs": [
    {
     "name": "stdout",
     "output_type": "stream",
     "text": [
      "/kaggle/input/marathon-time-predictions/MarathonData.csv\n"
     ]
    }
   ],
   "source": [
    "import numpy as np # linear algebra\n",
    "import pandas as pd # data processing, CSV file I/O (e.g. pd.read_csv)\n",
    "import matplotlib as plt\n",
    "\n",
    "# Input data files are available in the read-only \"../input/\" directory\n",
    "# For example, running this (by clicking run or pressing Shift+Enter) will list all files under the input directory\n",
    "\n",
    "import os\n",
    "for dirname, _, filenames in os.walk('/kaggle/input'):\n",
    "    for filename in filenames:\n",
    "        print(os.path.join(dirname, filename))\n",
    "        \n",
    "import warnings\n",
    "warnings.filterwarnings('ignore')"
   ]
  },
  {
   "cell_type": "markdown",
   "id": "943a79c4",
   "metadata": {
    "papermill": {
     "duration": 0.014466,
     "end_time": "2024-10-16T10:00:28.629345",
     "exception": false,
     "start_time": "2024-10-16T10:00:28.614879",
     "status": "completed"
    },
    "tags": []
   },
   "source": [
    "# 1. Definición del problema\n",
    "Clarificar el objetivo del proyecto, qué problema se va a resolver y qué tipo de modelo se requiere (supervisado o no supervisado).\n",
    "\n",
    "## Predicción de tiempos de en competiciones de marathon\n",
    "\n",
    "Supongamos que una gran organización deportiva está interesada en desarrollar un modelo de predicción para estimar los tiempos de finalización de corredores en maratones. Utilizarían el modelo para predecir los tiempos de miles de corredores antes del evento, con el fin de planificar de manera más eficiente los tiempos de cierre de las calles, la cantidad de voluntarios necesarios, las zonas de hidratación, y otros aspectos logísticos del evento.\n",
    "\n",
    "Este modelo también puede ser utilizado por entrenadores y corredores para predecir su rendimiento futuro y ajustar su entrenamiento. Un corredor puede introducir variables como su tiempo en carreras anteriores, su edad, sexo, y nivel de entrenamiento para obtener una predicción del tiempo que probablemente logrará en el próximo evento."
   ]
  },
  {
   "cell_type": "markdown",
   "id": "0492b578",
   "metadata": {
    "papermill": {
     "duration": 0.013306,
     "end_time": "2024-10-16T10:00:28.656413",
     "exception": false,
     "start_time": "2024-10-16T10:00:28.643107",
     "status": "completed"
    },
    "tags": []
   },
   "source": [
    "# 2. Recolección de los datos\n",
    "\n",
    "Recopilar datos relevantes y suficientes para entrenar el modelo. Estos datos pueden ser estructurados o no estructurados."
   ]
  },
  {
   "cell_type": "code",
   "execution_count": 2,
   "id": "052a4e87",
   "metadata": {
    "execution": {
     "iopub.execute_input": "2024-10-16T10:00:28.686351Z",
     "iopub.status.busy": "2024-10-16T10:00:28.685769Z",
     "iopub.status.idle": "2024-10-16T10:00:28.706230Z",
     "shell.execute_reply": "2024-10-16T10:00:28.705010Z"
    },
    "papermill": {
     "duration": 0.039003,
     "end_time": "2024-10-16T10:00:28.709253",
     "exception": false,
     "start_time": "2024-10-16T10:00:28.670250",
     "status": "completed"
    },
    "tags": []
   },
   "outputs": [],
   "source": [
    "df_marathon_ = pd.read_csv('/kaggle/input/marathon-time-predictions/MarathonData.csv')"
   ]
  },
  {
   "cell_type": "code",
   "execution_count": 3,
   "id": "5b7bcdac",
   "metadata": {
    "execution": {
     "iopub.execute_input": "2024-10-16T10:00:28.739735Z",
     "iopub.status.busy": "2024-10-16T10:00:28.739265Z",
     "iopub.status.idle": "2024-10-16T10:00:28.770034Z",
     "shell.execute_reply": "2024-10-16T10:00:28.768757Z"
    },
    "papermill": {
     "duration": 0.04958,
     "end_time": "2024-10-16T10:00:28.772887",
     "exception": false,
     "start_time": "2024-10-16T10:00:28.723307",
     "status": "completed"
    },
    "tags": []
   },
   "outputs": [
    {
     "data": {
      "text/html": [
       "<div>\n",
       "<style scoped>\n",
       "    .dataframe tbody tr th:only-of-type {\n",
       "        vertical-align: middle;\n",
       "    }\n",
       "\n",
       "    .dataframe tbody tr th {\n",
       "        vertical-align: top;\n",
       "    }\n",
       "\n",
       "    .dataframe thead th {\n",
       "        text-align: right;\n",
       "    }\n",
       "</style>\n",
       "<table border=\"1\" class=\"dataframe\">\n",
       "  <thead>\n",
       "    <tr style=\"text-align: right;\">\n",
       "      <th></th>\n",
       "      <th>id</th>\n",
       "      <th>Marathon</th>\n",
       "      <th>Name</th>\n",
       "      <th>Category</th>\n",
       "      <th>km4week</th>\n",
       "      <th>sp4week</th>\n",
       "      <th>CrossTraining</th>\n",
       "      <th>Wall21</th>\n",
       "      <th>MarathonTime</th>\n",
       "      <th>CATEGORY</th>\n",
       "    </tr>\n",
       "  </thead>\n",
       "  <tbody>\n",
       "    <tr>\n",
       "      <th>0</th>\n",
       "      <td>1</td>\n",
       "      <td>Prague17</td>\n",
       "      <td>Blair MORGAN</td>\n",
       "      <td>MAM</td>\n",
       "      <td>132.8</td>\n",
       "      <td>14.434783</td>\n",
       "      <td>NaN</td>\n",
       "      <td>1.16</td>\n",
       "      <td>2.37</td>\n",
       "      <td>A</td>\n",
       "    </tr>\n",
       "    <tr>\n",
       "      <th>1</th>\n",
       "      <td>2</td>\n",
       "      <td>Prague17</td>\n",
       "      <td>Robert Heczko</td>\n",
       "      <td>MAM</td>\n",
       "      <td>68.6</td>\n",
       "      <td>13.674419</td>\n",
       "      <td>NaN</td>\n",
       "      <td>1.23</td>\n",
       "      <td>2.59</td>\n",
       "      <td>A</td>\n",
       "    </tr>\n",
       "    <tr>\n",
       "      <th>2</th>\n",
       "      <td>3</td>\n",
       "      <td>Prague17</td>\n",
       "      <td>Michon Jerome</td>\n",
       "      <td>MAM</td>\n",
       "      <td>82.7</td>\n",
       "      <td>13.520436</td>\n",
       "      <td>NaN</td>\n",
       "      <td>1.30</td>\n",
       "      <td>2.66</td>\n",
       "      <td>A</td>\n",
       "    </tr>\n",
       "    <tr>\n",
       "      <th>3</th>\n",
       "      <td>4</td>\n",
       "      <td>Prague17</td>\n",
       "      <td>Daniel Or lek</td>\n",
       "      <td>M45</td>\n",
       "      <td>137.5</td>\n",
       "      <td>12.258544</td>\n",
       "      <td>NaN</td>\n",
       "      <td>1.32</td>\n",
       "      <td>2.68</td>\n",
       "      <td>A</td>\n",
       "    </tr>\n",
       "    <tr>\n",
       "      <th>4</th>\n",
       "      <td>5</td>\n",
       "      <td>Prague17</td>\n",
       "      <td>Luk ? Mr zek</td>\n",
       "      <td>MAM</td>\n",
       "      <td>84.6</td>\n",
       "      <td>13.945055</td>\n",
       "      <td>NaN</td>\n",
       "      <td>1.36</td>\n",
       "      <td>2.74</td>\n",
       "      <td>A</td>\n",
       "    </tr>\n",
       "  </tbody>\n",
       "</table>\n",
       "</div>"
      ],
      "text/plain": [
       "   id  Marathon           Name Category  km4week    sp4week CrossTraining  \\\n",
       "0   1  Prague17   Blair MORGAN      MAM    132.8  14.434783           NaN   \n",
       "1   2  Prague17  Robert Heczko      MAM     68.6  13.674419           NaN   \n",
       "2   3  Prague17  Michon Jerome      MAM     82.7  13.520436           NaN   \n",
       "3   4  Prague17  Daniel Or lek      M45    137.5  12.258544           NaN   \n",
       "4   5  Prague17   Luk ? Mr zek      MAM     84.6  13.945055           NaN   \n",
       "\n",
       "  Wall21  MarathonTime CATEGORY  \n",
       "0   1.16          2.37        A  \n",
       "1   1.23          2.59        A  \n",
       "2   1.30          2.66        A  \n",
       "3   1.32          2.68        A  \n",
       "4   1.36          2.74        A  "
      ]
     },
     "execution_count": 3,
     "metadata": {},
     "output_type": "execute_result"
    }
   ],
   "source": [
    "df_marathon_.head()"
   ]
  },
  {
   "cell_type": "markdown",
   "id": "47d7128d",
   "metadata": {
    "papermill": {
     "duration": 0.013883,
     "end_time": "2024-10-16T10:00:28.801129",
     "exception": false,
     "start_time": "2024-10-16T10:00:28.787246",
     "status": "completed"
    },
    "tags": []
   },
   "source": [
    "## Contenidos del dataset\n",
    "### id:\n",
    "simple counter\n",
    "\n",
    "### Marathon:\n",
    "the Marathon name where the data were extracted. I use the data coming out from Strava \"Side by side comparison\" and the data coming from the final marathon result\n",
    "\n",
    "### Name:\n",
    "The athlete's name, still some problems with UTF-8, I'll fix that soon\n",
    "\n",
    "### Category:\n",
    "the sex and age group of a runner\n",
    "\n",
    "MAM Male Athletes under 40 years\n",
    "WAM Women under 40 Years\n",
    "M40 Male Athletes between 40 and 45 years\n",
    "### km4week\n",
    "This is the total number of kilometers run in the last 4 weeks before the marathon, marathon included. If, for example, the km4week is 100, the athlete has run 400 km in the four weeks before the marathon\n",
    "\n",
    "### sp4week\n",
    "This is the average speed of the athlete in the last 4 training weeks. The average counts all the kilometers done, included the slow kilometers done before and after the training. A typic running session can be of 2km of slow running, then 12-14km of fast running, and finally other 2km of slow running. The average of the speed is this number, and with time this is one of the numbers that has to be refined\n",
    "\n",
    "### cross training:\n",
    "If the runner is also a cyclist, or a triathlete, does it counts? Use this parameter to see if the athlete is also a cross trainer in other disciplines\n",
    "\n",
    "### Wall21:\n",
    "In decimal. The tricky field. To acknowledge a good performance, as a marathoner, I have to run the first half marathon with the same split of the second half. If, for example, I run the first half marathon in 1h30m, I must finish the marathon in 3h (for doing a good job). If I finish in 3h20m, I started too fast and I hit \"the wall\". My training history is, therefore, less valid, since I was not estimating my result\n",
    "\n",
    "### Marathon time:\n",
    "In decimal. This is the final result. Based on my training history, I must predict my expected Marathon time\n",
    "\n",
    "### Category:\n",
    "This is an ancillary field. It gives some direction, so feel free to use or discard it. It groups in:\n",
    "\n",
    "A results under 3h\n",
    "B results between 3h and 3h20m\n",
    "C results between 3h20m and 3h40m\n",
    "D results between 3h40 and 4h"
   ]
  },
  {
   "cell_type": "markdown",
   "id": "a84afb93",
   "metadata": {
    "papermill": {
     "duration": 0.014447,
     "end_time": "2024-10-16T10:00:28.830226",
     "exception": false,
     "start_time": "2024-10-16T10:00:28.815779",
     "status": "completed"
    },
    "tags": []
   },
   "source": [
    "# 3. Análisis exploratorio de datos (EDA)\n",
    "Entender las características principales de un conjunto de datos mediante técnicas estadísticas y visualizaciones, con el objetivo de descubrir patrones, detectar anomalías, probar hipótesis y verificar supuestos."
   ]
  },
  {
   "cell_type": "code",
   "execution_count": 4,
   "id": "f646bee3",
   "metadata": {
    "execution": {
     "iopub.execute_input": "2024-10-16T10:00:28.860290Z",
     "iopub.status.busy": "2024-10-16T10:00:28.859546Z",
     "iopub.status.idle": "2024-10-16T10:00:28.888249Z",
     "shell.execute_reply": "2024-10-16T10:00:28.886851Z"
    },
    "papermill": {
     "duration": 0.047443,
     "end_time": "2024-10-16T10:00:28.891624",
     "exception": false,
     "start_time": "2024-10-16T10:00:28.844181",
     "status": "completed"
    },
    "tags": []
   },
   "outputs": [
    {
     "name": "stdout",
     "output_type": "stream",
     "text": [
      "<class 'pandas.core.frame.DataFrame'>\n",
      "RangeIndex: 87 entries, 0 to 86\n",
      "Data columns (total 10 columns):\n",
      " #   Column         Non-Null Count  Dtype  \n",
      "---  ------         --------------  -----  \n",
      " 0   id             87 non-null     int64  \n",
      " 1   Marathon       87 non-null     object \n",
      " 2   Name           87 non-null     object \n",
      " 3   Category       81 non-null     object \n",
      " 4   km4week        87 non-null     float64\n",
      " 5   sp4week        87 non-null     float64\n",
      " 6   CrossTraining  13 non-null     object \n",
      " 7   Wall21         87 non-null     object \n",
      " 8   MarathonTime   87 non-null     float64\n",
      " 9   CATEGORY       87 non-null     object \n",
      "dtypes: float64(3), int64(1), object(6)\n",
      "memory usage: 6.9+ KB\n"
     ]
    }
   ],
   "source": [
    "df_marathon_.info()"
   ]
  },
  {
   "cell_type": "code",
   "execution_count": 5,
   "id": "f4e9ec95",
   "metadata": {
    "execution": {
     "iopub.execute_input": "2024-10-16T10:00:28.922044Z",
     "iopub.status.busy": "2024-10-16T10:00:28.921583Z",
     "iopub.status.idle": "2024-10-16T10:00:28.928272Z",
     "shell.execute_reply": "2024-10-16T10:00:28.926999Z"
    },
    "papermill": {
     "duration": 0.025228,
     "end_time": "2024-10-16T10:00:28.931008",
     "exception": false,
     "start_time": "2024-10-16T10:00:28.905780",
     "status": "completed"
    },
    "tags": []
   },
   "outputs": [],
   "source": [
    "# La columna 'Wall21' viene en formato texto\n",
    "\n",
    "df_marathon_['Wall21'] = pd.to_numeric(df_marathon_['Wall21'],errors='coerce')"
   ]
  },
  {
   "cell_type": "code",
   "execution_count": 6,
   "id": "e7268086",
   "metadata": {
    "execution": {
     "iopub.execute_input": "2024-10-16T10:00:28.961686Z",
     "iopub.status.busy": "2024-10-16T10:00:28.961207Z",
     "iopub.status.idle": "2024-10-16T10:00:28.992314Z",
     "shell.execute_reply": "2024-10-16T10:00:28.991213Z"
    },
    "papermill": {
     "duration": 0.0499,
     "end_time": "2024-10-16T10:00:28.995114",
     "exception": false,
     "start_time": "2024-10-16T10:00:28.945214",
     "status": "completed"
    },
    "tags": []
   },
   "outputs": [
    {
     "data": {
      "text/html": [
       "<div>\n",
       "<style scoped>\n",
       "    .dataframe tbody tr th:only-of-type {\n",
       "        vertical-align: middle;\n",
       "    }\n",
       "\n",
       "    .dataframe tbody tr th {\n",
       "        vertical-align: top;\n",
       "    }\n",
       "\n",
       "    .dataframe thead th {\n",
       "        text-align: right;\n",
       "    }\n",
       "</style>\n",
       "<table border=\"1\" class=\"dataframe\">\n",
       "  <thead>\n",
       "    <tr style=\"text-align: right;\">\n",
       "      <th></th>\n",
       "      <th>id</th>\n",
       "      <th>km4week</th>\n",
       "      <th>sp4week</th>\n",
       "      <th>Wall21</th>\n",
       "      <th>MarathonTime</th>\n",
       "    </tr>\n",
       "  </thead>\n",
       "  <tbody>\n",
       "    <tr>\n",
       "      <th>count</th>\n",
       "      <td>87.000000</td>\n",
       "      <td>87.000000</td>\n",
       "      <td>87.000000</td>\n",
       "      <td>81.000000</td>\n",
       "      <td>87.000000</td>\n",
       "    </tr>\n",
       "    <tr>\n",
       "      <th>mean</th>\n",
       "      <td>44.000000</td>\n",
       "      <td>62.347126</td>\n",
       "      <td>139.840706</td>\n",
       "      <td>1.630617</td>\n",
       "      <td>3.319080</td>\n",
       "    </tr>\n",
       "    <tr>\n",
       "      <th>std</th>\n",
       "      <td>25.258662</td>\n",
       "      <td>26.956019</td>\n",
       "      <td>1191.427864</td>\n",
       "      <td>0.210490</td>\n",
       "      <td>0.376923</td>\n",
       "    </tr>\n",
       "    <tr>\n",
       "      <th>min</th>\n",
       "      <td>1.000000</td>\n",
       "      <td>17.900000</td>\n",
       "      <td>8.031414</td>\n",
       "      <td>1.160000</td>\n",
       "      <td>2.370000</td>\n",
       "    </tr>\n",
       "    <tr>\n",
       "      <th>25%</th>\n",
       "      <td>22.500000</td>\n",
       "      <td>44.200000</td>\n",
       "      <td>11.498168</td>\n",
       "      <td>1.450000</td>\n",
       "      <td>3.045000</td>\n",
       "    </tr>\n",
       "    <tr>\n",
       "      <th>50%</th>\n",
       "      <td>44.000000</td>\n",
       "      <td>58.800000</td>\n",
       "      <td>12.163424</td>\n",
       "      <td>1.620000</td>\n",
       "      <td>3.320000</td>\n",
       "    </tr>\n",
       "    <tr>\n",
       "      <th>75%</th>\n",
       "      <td>65.500000</td>\n",
       "      <td>77.500000</td>\n",
       "      <td>12.854036</td>\n",
       "      <td>1.760000</td>\n",
       "      <td>3.605000</td>\n",
       "    </tr>\n",
       "    <tr>\n",
       "      <th>max</th>\n",
       "      <td>87.000000</td>\n",
       "      <td>137.500000</td>\n",
       "      <td>11125.000000</td>\n",
       "      <td>2.050000</td>\n",
       "      <td>3.980000</td>\n",
       "    </tr>\n",
       "  </tbody>\n",
       "</table>\n",
       "</div>"
      ],
      "text/plain": [
       "              id     km4week       sp4week     Wall21  MarathonTime\n",
       "count  87.000000   87.000000     87.000000  81.000000     87.000000\n",
       "mean   44.000000   62.347126    139.840706   1.630617      3.319080\n",
       "std    25.258662   26.956019   1191.427864   0.210490      0.376923\n",
       "min     1.000000   17.900000      8.031414   1.160000      2.370000\n",
       "25%    22.500000   44.200000     11.498168   1.450000      3.045000\n",
       "50%    44.000000   58.800000     12.163424   1.620000      3.320000\n",
       "75%    65.500000   77.500000     12.854036   1.760000      3.605000\n",
       "max    87.000000  137.500000  11125.000000   2.050000      3.980000"
      ]
     },
     "execution_count": 6,
     "metadata": {},
     "output_type": "execute_result"
    }
   ],
   "source": [
    "df_marathon_.describe()"
   ]
  },
  {
   "cell_type": "code",
   "execution_count": 7,
   "id": "aa5ae5e5",
   "metadata": {
    "execution": {
     "iopub.execute_input": "2024-10-16T10:00:29.026279Z",
     "iopub.status.busy": "2024-10-16T10:00:29.025826Z",
     "iopub.status.idle": "2024-10-16T10:00:30.057395Z",
     "shell.execute_reply": "2024-10-16T10:00:30.055939Z"
    },
    "papermill": {
     "duration": 1.050596,
     "end_time": "2024-10-16T10:00:30.060354",
     "exception": false,
     "start_time": "2024-10-16T10:00:29.009758",
     "status": "completed"
    },
    "tags": []
   },
   "outputs": [
    {
     "data": {
      "text/plain": [
       "array([[<Axes: title={'center': 'id'}>,\n",
       "        <Axes: title={'center': 'km4week'}>],\n",
       "       [<Axes: title={'center': 'sp4week'}>,\n",
       "        <Axes: title={'center': 'Wall21'}>],\n",
       "       [<Axes: title={'center': 'MarathonTime'}>, <Axes: >]], dtype=object)"
      ]
     },
     "execution_count": 7,
     "metadata": {},
     "output_type": "execute_result"
    },
    {
     "data": {
      "image/png": "[encoded data removed]",
      "text/plain": [
       "<Figure size 640x480 with 6 Axes>"
      ]
     },
     "metadata": {},
     "output_type": "display_data"
    }
   ],
   "source": [
    "# Investigamos algo las características\n",
    "\n",
    "# Correlación entre características\n",
    "\n",
    "df_marathon_.hist()"
   ]
  },
  {
   "cell_type": "code",
   "execution_count": 8,
   "id": "37c6f452",
   "metadata": {
    "execution": {
     "iopub.execute_input": "2024-10-16T10:00:30.093403Z",
     "iopub.status.busy": "2024-10-16T10:00:30.092511Z",
     "iopub.status.idle": "2024-10-16T10:00:30.100884Z",
     "shell.execute_reply": "2024-10-16T10:00:30.099537Z"
    },
    "papermill": {
     "duration": 0.027557,
     "end_time": "2024-10-16T10:00:30.103387",
     "exception": false,
     "start_time": "2024-10-16T10:00:30.075830",
     "status": "completed"
    },
    "tags": []
   },
   "outputs": [
    {
     "data": {
      "text/plain": [
       "Index(['id', 'Marathon', 'Name', 'Category', 'km4week', 'sp4week',\n",
       "       'CrossTraining', 'Wall21', 'MarathonTime', 'CATEGORY'],\n",
       "      dtype='object')"
      ]
     },
     "execution_count": 8,
     "metadata": {},
     "output_type": "execute_result"
    }
   ],
   "source": [
    "df_marathon_.columns"
   ]
  },
  {
   "cell_type": "code",
   "execution_count": 9,
   "id": "a37fe7f5",
   "metadata": {
    "execution": {
     "iopub.execute_input": "2024-10-16T10:00:30.135864Z",
     "iopub.status.busy": "2024-10-16T10:00:30.135418Z",
     "iopub.status.idle": "2024-10-16T10:00:30.153453Z",
     "shell.execute_reply": "2024-10-16T10:00:30.152397Z"
    },
    "papermill": {
     "duration": 0.037237,
     "end_time": "2024-10-16T10:00:30.155964",
     "exception": false,
     "start_time": "2024-10-16T10:00:30.118727",
     "status": "completed"
    },
    "tags": []
   },
   "outputs": [
    {
     "data": {
      "text/html": [
       "<div>\n",
       "<style scoped>\n",
       "    .dataframe tbody tr th:only-of-type {\n",
       "        vertical-align: middle;\n",
       "    }\n",
       "\n",
       "    .dataframe tbody tr th {\n",
       "        vertical-align: top;\n",
       "    }\n",
       "\n",
       "    .dataframe thead th {\n",
       "        text-align: right;\n",
       "    }\n",
       "</style>\n",
       "<table border=\"1\" class=\"dataframe\">\n",
       "  <thead>\n",
       "    <tr style=\"text-align: right;\">\n",
       "      <th></th>\n",
       "      <th>km4week</th>\n",
       "      <th>sp4week</th>\n",
       "      <th>Wall21</th>\n",
       "      <th>MarathonTime</th>\n",
       "    </tr>\n",
       "  </thead>\n",
       "  <tbody>\n",
       "    <tr>\n",
       "      <th>km4week</th>\n",
       "      <td>1.000000</td>\n",
       "      <td>-0.107429</td>\n",
       "      <td>-0.580228</td>\n",
       "      <td>-0.606782</td>\n",
       "    </tr>\n",
       "    <tr>\n",
       "      <th>sp4week</th>\n",
       "      <td>-0.107429</td>\n",
       "      <td>1.000000</td>\n",
       "      <td>0.223548</td>\n",
       "      <td>0.172294</td>\n",
       "    </tr>\n",
       "    <tr>\n",
       "      <th>Wall21</th>\n",
       "      <td>-0.580228</td>\n",
       "      <td>0.223548</td>\n",
       "      <td>1.000000</td>\n",
       "      <td>0.969089</td>\n",
       "    </tr>\n",
       "    <tr>\n",
       "      <th>MarathonTime</th>\n",
       "      <td>-0.606782</td>\n",
       "      <td>0.172294</td>\n",
       "      <td>0.969089</td>\n",
       "      <td>1.000000</td>\n",
       "    </tr>\n",
       "  </tbody>\n",
       "</table>\n",
       "</div>"
      ],
      "text/plain": [
       "               km4week   sp4week    Wall21  MarathonTime\n",
       "km4week       1.000000 -0.107429 -0.580228     -0.606782\n",
       "sp4week      -0.107429  1.000000  0.223548      0.172294\n",
       "Wall21       -0.580228  0.223548  1.000000      0.969089\n",
       "MarathonTime -0.606782  0.172294  0.969089      1.000000"
      ]
     },
     "execution_count": 9,
     "metadata": {},
     "output_type": "execute_result"
    }
   ],
   "source": [
    "# Investigamos algo las características\n",
    "\n",
    "# Correlación entre características\n",
    "\n",
    "df_marathon_[['km4week', 'sp4week','Wall21', 'MarathonTime']].corr()"
   ]
  },
  {
   "cell_type": "markdown",
   "id": "f2edc5f5",
   "metadata": {
    "papermill": {
     "duration": 0.015772,
     "end_time": "2024-10-16T10:00:30.187138",
     "exception": false,
     "start_time": "2024-10-16T10:00:30.171366",
     "status": "completed"
    },
    "tags": []
   },
   "source": [
    "# 4. Preprocesamiento de datos\n",
    "Limpiar, normalizar y transformar los datos para prepararlos para el modelo. Incluye la gestión de valores faltantes y la codificación de variables."
   ]
  },
  {
   "cell_type": "code",
   "execution_count": 10,
   "id": "19048785",
   "metadata": {
    "execution": {
     "iopub.execute_input": "2024-10-16T10:00:30.219808Z",
     "iopub.status.busy": "2024-10-16T10:00:30.219307Z",
     "iopub.status.idle": "2024-10-16T10:00:30.228145Z",
     "shell.execute_reply": "2024-10-16T10:00:30.226940Z"
    },
    "papermill": {
     "duration": 0.028351,
     "end_time": "2024-10-16T10:00:30.230893",
     "exception": false,
     "start_time": "2024-10-16T10:00:30.202542",
     "status": "completed"
    },
    "tags": []
   },
   "outputs": [],
   "source": [
    "# Nos quedamos con las características intresantes\n",
    "\n",
    "df_marathon = df_marathon_[['Category', 'km4week', 'sp4week', 'CrossTraining', 'Wall21', 'MarathonTime']]"
   ]
  },
  {
   "cell_type": "code",
   "execution_count": 11,
   "id": "68fde03c",
   "metadata": {
    "execution": {
     "iopub.execute_input": "2024-10-16T10:00:30.264130Z",
     "iopub.status.busy": "2024-10-16T10:00:30.263687Z",
     "iopub.status.idle": "2024-10-16T10:00:30.273296Z",
     "shell.execute_reply": "2024-10-16T10:00:30.272077Z"
    },
    "papermill": {
     "duration": 0.029212,
     "end_time": "2024-10-16T10:00:30.275922",
     "exception": false,
     "start_time": "2024-10-16T10:00:30.246710",
     "status": "completed"
    },
    "tags": []
   },
   "outputs": [
    {
     "data": {
      "text/plain": [
       "Category          6\n",
       "km4week           0\n",
       "sp4week           0\n",
       "CrossTraining    74\n",
       "Wall21            6\n",
       "MarathonTime      0\n",
       "dtype: int64"
      ]
     },
     "execution_count": 11,
     "metadata": {},
     "output_type": "execute_result"
    }
   ],
   "source": [
    "# Datos faltantes\n",
    "\n",
    "df_marathon.isnull().sum()"
   ]
  },
  {
   "cell_type": "code",
   "execution_count": 12,
   "id": "8b7a328b",
   "metadata": {
    "execution": {
     "iopub.execute_input": "2024-10-16T10:00:30.309181Z",
     "iopub.status.busy": "2024-10-16T10:00:30.308773Z",
     "iopub.status.idle": "2024-10-16T10:00:30.316879Z",
     "shell.execute_reply": "2024-10-16T10:00:30.315728Z"
    },
    "papermill": {
     "duration": 0.027788,
     "end_time": "2024-10-16T10:00:30.319392",
     "exception": false,
     "start_time": "2024-10-16T10:00:30.291604",
     "status": "completed"
    },
    "tags": []
   },
   "outputs": [
    {
     "data": {
      "text/plain": [
       "array([nan, 'ciclista 1h', 'ciclista 4h', 'ciclista 13h', 'ciclista 5h',\n",
       "       'ciclista 3h'], dtype=object)"
      ]
     },
     "execution_count": 12,
     "metadata": {},
     "output_type": "execute_result"
    }
   ],
   "source": [
    "# Primero vamos a tratar una variable categórica\n",
    "\n",
    "df_marathon['CrossTraining'].unique()"
   ]
  },
  {
   "cell_type": "code",
   "execution_count": 13,
   "id": "37b955d2",
   "metadata": {
    "execution": {
     "iopub.execute_input": "2024-10-16T10:00:30.353406Z",
     "iopub.status.busy": "2024-10-16T10:00:30.352964Z",
     "iopub.status.idle": "2024-10-16T10:00:30.359754Z",
     "shell.execute_reply": "2024-10-16T10:00:30.358448Z"
    },
    "papermill": {
     "duration": 0.0269,
     "end_time": "2024-10-16T10:00:30.362273",
     "exception": false,
     "start_time": "2024-10-16T10:00:30.335373",
     "status": "completed"
    },
    "tags": []
   },
   "outputs": [],
   "source": [
    "# Primero relleno con ceros este campo para los valores nulos\n",
    "\n",
    "df_marathon[\"CrossTraining\"] = df_marathon['CrossTraining'].fillna(0)"
   ]
  },
  {
   "cell_type": "code",
   "execution_count": 14,
   "id": "8d6f857d",
   "metadata": {
    "execution": {
     "iopub.execute_input": "2024-10-16T10:00:30.396085Z",
     "iopub.status.busy": "2024-10-16T10:00:30.395589Z",
     "iopub.status.idle": "2024-10-16T10:00:30.401057Z",
     "shell.execute_reply": "2024-10-16T10:00:30.399990Z"
    },
    "papermill": {
     "duration": 0.025261,
     "end_time": "2024-10-16T10:00:30.403357",
     "exception": false,
     "start_time": "2024-10-16T10:00:30.378096",
     "status": "completed"
    },
    "tags": []
   },
   "outputs": [],
   "source": [
    "#  Creamos un diccionario de reemplazo\n",
    "\n",
    "dict_crosstraining = {'ciclista 1h': 1, 'ciclista 3h': 2, 'ciclista 4h': 3, 'ciclista 5h': 4, 'ciclista 13h': 5}"
   ]
  },
  {
   "cell_type": "code",
   "execution_count": 15,
   "id": "db368589",
   "metadata": {
    "execution": {
     "iopub.execute_input": "2024-10-16T10:00:30.438247Z",
     "iopub.status.busy": "2024-10-16T10:00:30.437783Z",
     "iopub.status.idle": "2024-10-16T10:00:30.445470Z",
     "shell.execute_reply": "2024-10-16T10:00:30.444080Z"
    },
    "papermill": {
     "duration": 0.028785,
     "end_time": "2024-10-16T10:00:30.448189",
     "exception": false,
     "start_time": "2024-10-16T10:00:30.419404",
     "status": "completed"
    },
    "tags": []
   },
   "outputs": [],
   "source": [
    "# Reemplazamos los valores de texto por los numéricos\n",
    "\n",
    "df_marathon['CrossTraining'] = df_marathon['CrossTraining'].replace(dict_crosstraining) "
   ]
  },
  {
   "cell_type": "code",
   "execution_count": 16,
   "id": "30c5a355",
   "metadata": {
    "execution": {
     "iopub.execute_input": "2024-10-16T10:00:30.483579Z",
     "iopub.status.busy": "2024-10-16T10:00:30.483166Z",
     "iopub.status.idle": "2024-10-16T10:00:30.492786Z",
     "shell.execute_reply": "2024-10-16T10:00:30.491470Z"
    },
    "papermill": {
     "duration": 0.030522,
     "end_time": "2024-10-16T10:00:30.495568",
     "exception": false,
     "start_time": "2024-10-16T10:00:30.465046",
     "status": "completed"
    },
    "tags": []
   },
   "outputs": [
    {
     "data": {
      "text/plain": [
       "array([0, 1, 3, 5, 4, 2])"
      ]
     },
     "execution_count": 16,
     "metadata": {},
     "output_type": "execute_result"
    }
   ],
   "source": [
    "df_marathon['CrossTraining'].unique()"
   ]
  },
  {
   "cell_type": "code",
   "execution_count": 17,
   "id": "b1825337",
   "metadata": {
    "execution": {
     "iopub.execute_input": "2024-10-16T10:00:30.530433Z",
     "iopub.status.busy": "2024-10-16T10:00:30.530030Z",
     "iopub.status.idle": "2024-10-16T10:00:30.541484Z",
     "shell.execute_reply": "2024-10-16T10:00:30.540194Z"
    },
    "papermill": {
     "duration": 0.032779,
     "end_time": "2024-10-16T10:00:30.544914",
     "exception": false,
     "start_time": "2024-10-16T10:00:30.512135",
     "status": "completed"
    },
    "tags": []
   },
   "outputs": [
    {
     "name": "stdout",
     "output_type": "stream",
     "text": [
      "Valores anteriores: ['MAM' 'M45' 'M40' 'M50' 'M55' 0 'WAM']\n",
      "Valores tras codificación: [1 2 3 4 5 0 6]\n"
     ]
    }
   ],
   "source": [
    "# Hacemos lo mismo para la columna categoría\n",
    "\n",
    "df_marathon[\"Category\"] = df_marathon['Category'].fillna(0)\n",
    "\n",
    "print('Valores anteriores:', df_marathon['Category'].unique())\n",
    "\n",
    "dict_category = {'MAM':1, 'M45':2, 'M40':3, 'M50':4, 'M55':5,'WAM':6}\n",
    "\n",
    "df_marathon['Category'] = df_marathon['Category'].replace(dict_category)\n",
    "\n",
    "print('Valores tras codificación:', df_marathon['Category'].unique())"
   ]
  },
  {
   "cell_type": "code",
   "execution_count": 18,
   "id": "d01410c8",
   "metadata": {
    "execution": {
     "iopub.execute_input": "2024-10-16T10:00:30.579766Z",
     "iopub.status.busy": "2024-10-16T10:00:30.579290Z",
     "iopub.status.idle": "2024-10-16T10:00:30.597268Z",
     "shell.execute_reply": "2024-10-16T10:00:30.595917Z"
    },
    "papermill": {
     "duration": 0.038415,
     "end_time": "2024-10-16T10:00:30.599957",
     "exception": false,
     "start_time": "2024-10-16T10:00:30.561542",
     "status": "completed"
    },
    "tags": []
   },
   "outputs": [
    {
     "data": {
      "text/html": [
       "<div>\n",
       "<style scoped>\n",
       "    .dataframe tbody tr th:only-of-type {\n",
       "        vertical-align: middle;\n",
       "    }\n",
       "\n",
       "    .dataframe tbody tr th {\n",
       "        vertical-align: top;\n",
       "    }\n",
       "\n",
       "    .dataframe thead th {\n",
       "        text-align: right;\n",
       "    }\n",
       "</style>\n",
       "<table border=\"1\" class=\"dataframe\">\n",
       "  <thead>\n",
       "    <tr style=\"text-align: right;\">\n",
       "      <th></th>\n",
       "      <th>Category</th>\n",
       "      <th>km4week</th>\n",
       "      <th>sp4week</th>\n",
       "      <th>CrossTraining</th>\n",
       "      <th>Wall21</th>\n",
       "      <th>MarathonTime</th>\n",
       "    </tr>\n",
       "  </thead>\n",
       "  <tbody>\n",
       "    <tr>\n",
       "      <th>0</th>\n",
       "      <td>1</td>\n",
       "      <td>132.8</td>\n",
       "      <td>14.434783</td>\n",
       "      <td>0</td>\n",
       "      <td>1.16</td>\n",
       "      <td>2.37</td>\n",
       "    </tr>\n",
       "    <tr>\n",
       "      <th>1</th>\n",
       "      <td>1</td>\n",
       "      <td>68.6</td>\n",
       "      <td>13.674419</td>\n",
       "      <td>0</td>\n",
       "      <td>1.23</td>\n",
       "      <td>2.59</td>\n",
       "    </tr>\n",
       "    <tr>\n",
       "      <th>2</th>\n",
       "      <td>1</td>\n",
       "      <td>82.7</td>\n",
       "      <td>13.520436</td>\n",
       "      <td>0</td>\n",
       "      <td>1.30</td>\n",
       "      <td>2.66</td>\n",
       "    </tr>\n",
       "    <tr>\n",
       "      <th>3</th>\n",
       "      <td>2</td>\n",
       "      <td>137.5</td>\n",
       "      <td>12.258544</td>\n",
       "      <td>0</td>\n",
       "      <td>1.32</td>\n",
       "      <td>2.68</td>\n",
       "    </tr>\n",
       "    <tr>\n",
       "      <th>4</th>\n",
       "      <td>1</td>\n",
       "      <td>84.6</td>\n",
       "      <td>13.945055</td>\n",
       "      <td>0</td>\n",
       "      <td>1.36</td>\n",
       "      <td>2.74</td>\n",
       "    </tr>\n",
       "  </tbody>\n",
       "</table>\n",
       "</div>"
      ],
      "text/plain": [
       "   Category  km4week    sp4week  CrossTraining  Wall21  MarathonTime\n",
       "0         1    132.8  14.434783              0    1.16          2.37\n",
       "1         1     68.6  13.674419              0    1.23          2.59\n",
       "2         1     82.7  13.520436              0    1.30          2.66\n",
       "3         2    137.5  12.258544              0    1.32          2.68\n",
       "4         1     84.6  13.945055              0    1.36          2.74"
      ]
     },
     "execution_count": 18,
     "metadata": {},
     "output_type": "execute_result"
    }
   ],
   "source": [
    "# Volvemos a explorar las características antes del entrenamiento\n",
    "\n",
    "df_marathon.head()"
   ]
  },
  {
   "cell_type": "code",
   "execution_count": 19,
   "id": "f680e598",
   "metadata": {
    "execution": {
     "iopub.execute_input": "2024-10-16T10:00:30.634907Z",
     "iopub.status.busy": "2024-10-16T10:00:30.634429Z",
     "iopub.status.idle": "2024-10-16T10:00:30.647347Z",
     "shell.execute_reply": "2024-10-16T10:00:30.645737Z"
    },
    "papermill": {
     "duration": 0.03364,
     "end_time": "2024-10-16T10:00:30.650136",
     "exception": false,
     "start_time": "2024-10-16T10:00:30.616496",
     "status": "completed"
    },
    "tags": []
   },
   "outputs": [
    {
     "name": "stdout",
     "output_type": "stream",
     "text": [
      "<class 'pandas.core.frame.DataFrame'>\n",
      "RangeIndex: 87 entries, 0 to 86\n",
      "Data columns (total 6 columns):\n",
      " #   Column         Non-Null Count  Dtype  \n",
      "---  ------         --------------  -----  \n",
      " 0   Category       87 non-null     int64  \n",
      " 1   km4week        87 non-null     float64\n",
      " 2   sp4week        87 non-null     float64\n",
      " 3   CrossTraining  87 non-null     int64  \n",
      " 4   Wall21         81 non-null     float64\n",
      " 5   MarathonTime   87 non-null     float64\n",
      "dtypes: float64(4), int64(2)\n",
      "memory usage: 4.2 KB\n"
     ]
    }
   ],
   "source": [
    "df_marathon.info()"
   ]
  },
  {
   "cell_type": "code",
   "execution_count": 20,
   "id": "e9623493",
   "metadata": {
    "execution": {
     "iopub.execute_input": "2024-10-16T10:00:30.685924Z",
     "iopub.status.busy": "2024-10-16T10:00:30.685488Z",
     "iopub.status.idle": "2024-10-16T10:00:30.693097Z",
     "shell.execute_reply": "2024-10-16T10:00:30.691504Z"
    },
    "papermill": {
     "duration": 0.028831,
     "end_time": "2024-10-16T10:00:30.695679",
     "exception": false,
     "start_time": "2024-10-16T10:00:30.666848",
     "status": "completed"
    },
    "tags": []
   },
   "outputs": [],
   "source": [
    "#  Prescindimos de aquellos registros que tienen Null en la columna 'Wall21'\n",
    "\n",
    "df_marathon.dropna(inplace=True)"
   ]
  },
  {
   "cell_type": "code",
   "execution_count": null,
   "id": "48751d4f",
   "metadata": {
    "papermill": {
     "duration": 0.016473,
     "end_time": "2024-10-16T10:00:30.729470",
     "exception": false,
     "start_time": "2024-10-16T10:00:30.712997",
     "status": "completed"
    },
    "tags": []
   },
   "outputs": [],
   "source": []
  },
  {
   "cell_type": "code",
   "execution_count": 21,
   "id": "27d6a8d7",
   "metadata": {
    "execution": {
     "iopub.execute_input": "2024-10-16T10:00:30.765438Z",
     "iopub.status.busy": "2024-10-16T10:00:30.765008Z",
     "iopub.status.idle": "2024-10-16T10:00:32.029331Z",
     "shell.execute_reply": "2024-10-16T10:00:32.028119Z"
    },
    "papermill": {
     "duration": 1.286432,
     "end_time": "2024-10-16T10:00:32.032929",
     "exception": false,
     "start_time": "2024-10-16T10:00:30.746497",
     "status": "completed"
    },
    "tags": []
   },
   "outputs": [
    {
     "data": {
      "image/png": "[encoded data removed]",
      "text/plain": [
       "<Figure size 1000x1000 with 4 Axes>"
      ]
     },
     "metadata": {},
     "output_type": "display_data"
    }
   ],
   "source": [
    "# Visualizamos de nuevo relaciones entre caracteristicas\n",
    "\n",
    "import matplotlib.pyplot as plt\n",
    "\n",
    "# Crear una figura con 2x2 subplots\n",
    "fig, axs = plt.subplots(2, 2, figsize=(10, 10))\n",
    "\n",
    "# Primer gráfico: km4week vs MarathonTime\n",
    "axs[0, 0].scatter(df_marathon['km4week'], df_marathon['MarathonTime'])\n",
    "axs[0, 0].set_title('km4week Vs Marathon Time')\n",
    "axs[0, 0].set_xlabel('km4week')\n",
    "axs[0, 0].set_ylabel('Marathon Time')\n",
    "\n",
    "# Segundo gráfico: sp4week vs MarathonTime\n",
    "axs[0, 1].scatter(df_marathon['sp4week'], df_marathon['MarathonTime'])\n",
    "axs[0, 1].set_title('sp4week Vs Marathon Time')\n",
    "axs[0, 1].set_xlabel('sp4week')\n",
    "axs[0, 1].set_ylabel('Marathon Time')\n",
    "\n",
    "# Tercer gráfico: Wall21 vs MarathonTime\n",
    "axs[1, 0].scatter(df_marathon['Wall21'], df_marathon['MarathonTime'])\n",
    "axs[1, 0].set_title('Wall21 Vs Marathon Time')\n",
    "axs[1, 0].set_xlabel('Wall21')\n",
    "axs[1, 0].set_ylabel('Marathon Time')\n",
    "\n",
    "# Cuarto gráfico: km4week vs Wall21\n",
    "axs[1, 1].scatter(df_marathon['km4week'], df_marathon['Wall21'])\n",
    "axs[1, 1].set_title('km4week Vs Wall21')\n",
    "axs[1, 1].set_xlabel('km4week')\n",
    "axs[1, 1].set_ylabel('Wall21')\n",
    "\n",
    "# Ajustar los espacios entre los subplots\n",
    "plt.tight_layout()\n",
    "\n",
    "# Mostrar los gráficos\n",
    "plt.show()"
   ]
  },
  {
   "cell_type": "code",
   "execution_count": 22,
   "id": "dc4b67b6",
   "metadata": {
    "execution": {
     "iopub.execute_input": "2024-10-16T10:00:32.071434Z",
     "iopub.status.busy": "2024-10-16T10:00:32.070994Z",
     "iopub.status.idle": "2024-10-16T10:00:32.076082Z",
     "shell.execute_reply": "2024-10-16T10:00:32.074983Z"
    },
    "papermill": {
     "duration": 0.027244,
     "end_time": "2024-10-16T10:00:32.078703",
     "exception": false,
     "start_time": "2024-10-16T10:00:32.051459",
     "status": "completed"
    },
    "tags": []
   },
   "outputs": [],
   "source": [
    "# Identificamos un outlier en sp4Week. Vamos a eliminarlo"
   ]
  },
  {
   "cell_type": "code",
   "execution_count": 23,
   "id": "f90de221",
   "metadata": {
    "execution": {
     "iopub.execute_input": "2024-10-16T10:00:32.116224Z",
     "iopub.status.busy": "2024-10-16T10:00:32.115795Z",
     "iopub.status.idle": "2024-10-16T10:00:32.127131Z",
     "shell.execute_reply": "2024-10-16T10:00:32.125747Z"
    },
    "papermill": {
     "duration": 0.0333,
     "end_time": "2024-10-16T10:00:32.129753",
     "exception": false,
     "start_time": "2024-10-16T10:00:32.096453",
     "status": "completed"
    },
    "tags": []
   },
   "outputs": [],
   "source": [
    "df_marathon = df_marathon.query('sp4week<1000')"
   ]
  },
  {
   "cell_type": "code",
   "execution_count": 24,
   "id": "10fe7c68",
   "metadata": {
    "execution": {
     "iopub.execute_input": "2024-10-16T10:00:32.169750Z",
     "iopub.status.busy": "2024-10-16T10:00:32.169309Z",
     "iopub.status.idle": "2024-10-16T10:00:33.524198Z",
     "shell.execute_reply": "2024-10-16T10:00:33.522805Z"
    },
    "papermill": {
     "duration": 1.37784,
     "end_time": "2024-10-16T10:00:33.526913",
     "exception": false,
     "start_time": "2024-10-16T10:00:32.149073",
     "status": "completed"
    },
    "tags": []
   },
   "outputs": [
    {
     "data": {
      "image/png": "[encoded data removed]",
      "text/plain": [
       "<Figure size 1000x1000 with 4 Axes>"
      ]
     },
     "metadata": {},
     "output_type": "display_data"
    }
   ],
   "source": [
    "# Visualizamos de nuevo relaciones entre caracteristicas\n",
    "\n",
    "import matplotlib.pyplot as plt\n",
    "\n",
    "# Crear una figura con 2x2 subplots\n",
    "fig, axs = plt.subplots(2, 2, figsize=(10, 10))\n",
    "\n",
    "# Primer gráfico: km4week vs MarathonTime\n",
    "axs[0, 0].scatter(df_marathon['km4week'], df_marathon['MarathonTime'])\n",
    "axs[0, 0].set_title('km4week Vs Marathon Time')\n",
    "axs[0, 0].set_xlabel('km4week')\n",
    "axs[0, 0].set_ylabel('Marathon Time')\n",
    "\n",
    "# Segundo gráfico: sp4week vs MarathonTime\n",
    "axs[0, 1].scatter(df_marathon['sp4week'], df_marathon['MarathonTime'])\n",
    "axs[0, 1].set_title('sp4week Vs Marathon Time')\n",
    "axs[0, 1].set_xlabel('sp4week')\n",
    "axs[0, 1].set_ylabel('Marathon Time')\n",
    "\n",
    "# Tercer gráfico: Wall21 vs MarathonTime\n",
    "axs[1, 0].scatter(df_marathon['Wall21'], df_marathon['MarathonTime'])\n",
    "axs[1, 0].set_title('Wall21 Vs Marathon Time')\n",
    "axs[1, 0].set_xlabel('Wall21')\n",
    "axs[1, 0].set_ylabel('Marathon Time')\n",
    "\n",
    "# Cuarto gráfico: km4week vs Wall21\n",
    "axs[1, 1].scatter(df_marathon['km4week'], df_marathon['Wall21'])\n",
    "axs[1, 1].set_title('km4week Vs Wall21')\n",
    "axs[1, 1].set_xlabel('km4week')\n",
    "axs[1, 1].set_ylabel('Wall21')\n",
    "\n",
    "# Ajustar los espacios entre los subplots\n",
    "plt.tight_layout()\n",
    "\n",
    "# Mostrar los gráficos\n",
    "plt.show()"
   ]
  },
  {
   "cell_type": "markdown",
   "id": "ad90d2e2",
   "metadata": {
    "papermill": {
     "duration": 0.019283,
     "end_time": "2024-10-16T10:00:33.565869",
     "exception": false,
     "start_time": "2024-10-16T10:00:33.546586",
     "status": "completed"
    },
    "tags": []
   },
   "source": [
    "# 5. Elección del modelo\n",
    "\n",
    "Vamos a elegir, por las características del problema, inicialmente un modelo de regresión lineal para ver el rendimiento base."
   ]
  },
  {
   "cell_type": "markdown",
   "id": "9cc160a9",
   "metadata": {
    "papermill": {
     "duration": 0.020586,
     "end_time": "2024-10-16T10:00:33.606207",
     "exception": false,
     "start_time": "2024-10-16T10:00:33.585621",
     "status": "completed"
    },
    "tags": []
   },
   "source": [
    "# 6. Entrenamiento del modelo\n",
    "Utilizar los datos de entrenamiento para ajustar los parámetros del modelo."
   ]
  },
  {
   "cell_type": "code",
   "execution_count": 25,
   "id": "e1d97a89",
   "metadata": {
    "execution": {
     "iopub.execute_input": "2024-10-16T10:00:33.646994Z",
     "iopub.status.busy": "2024-10-16T10:00:33.646554Z",
     "iopub.status.idle": "2024-10-16T10:00:33.655400Z",
     "shell.execute_reply": "2024-10-16T10:00:33.654295Z"
    },
    "papermill": {
     "duration": 0.032045,
     "end_time": "2024-10-16T10:00:33.657884",
     "exception": false,
     "start_time": "2024-10-16T10:00:33.625839",
     "status": "completed"
    },
    "tags": []
   },
   "outputs": [],
   "source": [
    "#  Primero vamos a separar el dataset en dos conjuntos: entrenamiento y validación (training y test)\n",
    "\n",
    "df_training = df_marathon.sample(frac=0.8,random_state=42)\n",
    "df_test = df_marathon.drop(df_training.index)"
   ]
  },
  {
   "cell_type": "code",
   "execution_count": 26,
   "id": "c9ab2cb8",
   "metadata": {
    "execution": {
     "iopub.execute_input": "2024-10-16T10:00:33.698459Z",
     "iopub.status.busy": "2024-10-16T10:00:33.698039Z",
     "iopub.status.idle": "2024-10-16T10:00:33.706456Z",
     "shell.execute_reply": "2024-10-16T10:00:33.705210Z"
    },
    "papermill": {
     "duration": 0.032289,
     "end_time": "2024-10-16T10:00:33.709270",
     "exception": false,
     "start_time": "2024-10-16T10:00:33.676981",
     "status": "completed"
    },
    "tags": []
   },
   "outputs": [
    {
     "data": {
      "text/plain": [
       "Index(['Category', 'km4week', 'sp4week', 'CrossTraining', 'Wall21',\n",
       "       'MarathonTime'],\n",
       "      dtype='object')"
      ]
     },
     "execution_count": 26,
     "metadata": {},
     "output_type": "execute_result"
    }
   ],
   "source": [
    "df_training.columns"
   ]
  },
  {
   "cell_type": "code",
   "execution_count": 27,
   "id": "f6b53e73",
   "metadata": {
    "execution": {
     "iopub.execute_input": "2024-10-16T10:00:33.751418Z",
     "iopub.status.busy": "2024-10-16T10:00:33.750954Z",
     "iopub.status.idle": "2024-10-16T10:00:33.761323Z",
     "shell.execute_reply": "2024-10-16T10:00:33.760020Z"
    },
    "papermill": {
     "duration": 0.035326,
     "end_time": "2024-10-16T10:00:33.764147",
     "exception": false,
     "start_time": "2024-10-16T10:00:33.728821",
     "status": "completed"
    },
    "tags": []
   },
   "outputs": [],
   "source": [
    "# Separamos target de características\n",
    "\n",
    "X_train = df_training[['Category', 'km4week', 'sp4week', 'CrossTraining', 'Wall21']]\n",
    "X_test = df_test[['Category', 'km4week', 'sp4week', 'CrossTraining', 'Wall21']]\n",
    "\n",
    "y_train = df_training[['MarathonTime']]\n",
    "y_test = df_test[['MarathonTime']]\n"
   ]
  },
  {
   "cell_type": "code",
   "execution_count": 28,
   "id": "ea50db3c",
   "metadata": {
    "execution": {
     "iopub.execute_input": "2024-10-16T10:00:33.805667Z",
     "iopub.status.busy": "2024-10-16T10:00:33.805186Z",
     "iopub.status.idle": "2024-10-16T10:00:35.678524Z",
     "shell.execute_reply": "2024-10-16T10:00:35.677298Z"
    },
    "papermill": {
     "duration": 1.89768,
     "end_time": "2024-10-16T10:00:35.681568",
     "exception": false,
     "start_time": "2024-10-16T10:00:33.783888",
     "status": "completed"
    },
    "tags": []
   },
   "outputs": [],
   "source": [
    "# Ahora seleccionamos el modelo adecuado. Pero lo haremos valiéndonos de la biblioteca SciKitLearn\n",
    "\n",
    "from sklearn.linear_model import LinearRegression\n",
    "\n",
    "modelo = LinearRegression()\n"
   ]
  },
  {
   "cell_type": "code",
   "execution_count": 29,
   "id": "3cd4b0b0",
   "metadata": {
    "execution": {
     "iopub.execute_input": "2024-10-16T10:00:35.723041Z",
     "iopub.status.busy": "2024-10-16T10:00:35.722308Z",
     "iopub.status.idle": "2024-10-16T10:00:35.759968Z",
     "shell.execute_reply": "2024-10-16T10:00:35.758614Z"
    },
    "papermill": {
     "duration": 0.061942,
     "end_time": "2024-10-16T10:00:35.762904",
     "exception": false,
     "start_time": "2024-10-16T10:00:35.700962",
     "status": "completed"
    },
    "tags": []
   },
   "outputs": [
    {
     "data": {
      "text/html": [
       "<style>#sk-container-id-1 {color: black;background-color: white;}#sk-container-id-1 pre{padding: 0;}#sk-container-id-1 div.sk-toggleable {background-color: white;}#sk-container-id-1 label.sk-toggleable__label {cursor: pointer;display: block;width: 100%;margin-bottom: 0;padding: 0.3em;box-sizing: border-box;text-align: center;}#sk-container-id-1 label.sk-toggleable__label-arrow:before {content: \"▸\";float: left;margin-right: 0.25em;color: #696969;}#sk-container-id-1 label.sk-toggleable__label-arrow:hover:before {color: black;}#sk-container-id-1 div.sk-estimator:hover label.sk-toggleable__label-arrow:before {color: black;}#sk-container-id-1 div.sk-toggleable__content {max-height: 0;max-width: 0;overflow: hidden;text-align: left;background-color: #f0f8ff;}#sk-container-id-1 div.sk-toggleable__content pre {margin: 0.2em;color: black;border-radius: 0.25em;background-color: #f0f8ff;}#sk-container-id-1 input.sk-toggleable__control:checked~div.sk-toggleable__content {max-height: 200px;max-width: 100%;overflow: auto;}#sk-container-id-1 input.sk-toggleable__control:checked~label.sk-toggleable__label-arrow:before {content: \"▾\";}#sk-container-id-1 div.sk-estimator input.sk-toggleable__control:checked~label.sk-toggleable__label {background-color: #d4ebff;}#sk-container-id-1 div.sk-label input.sk-toggleable__control:checked~label.sk-toggleable__label {background-color: #d4ebff;}#sk-container-id-1 input.sk-hidden--visually {border: 0;clip: rect(1px 1px 1px 1px);clip: rect(1px, 1px, 1px, 1px);height: 1px;margin: -1px;overflow: hidden;padding: 0;position: absolute;width: 1px;}#sk-container-id-1 div.sk-estimator {font-family: monospace;background-color: #f0f8ff;border: 1px dotted black;border-radius: 0.25em;box-sizing: border-box;margin-bottom: 0.5em;}#sk-container-id-1 div.sk-estimator:hover {background-color: #d4ebff;}#sk-container-id-1 div.sk-parallel-item::after {content: \"\";width: 100%;border-bottom: 1px solid gray;flex-grow: 1;}#sk-container-id-1 div.sk-label:hover label.sk-toggleable__label {background-color: #d4ebff;}#sk-container-id-1 div.sk-serial::before {content: \"\";position: absolute;border-left: 1px solid gray;box-sizing: border-box;top: 0;bottom: 0;left: 50%;z-index: 0;}#sk-container-id-1 div.sk-serial {display: flex;flex-direction: column;align-items: center;background-color: white;padding-right: 0.2em;padding-left: 0.2em;position: relative;}#sk-container-id-1 div.sk-item {position: relative;z-index: 1;}#sk-container-id-1 div.sk-parallel {display: flex;align-items: stretch;justify-content: center;background-color: white;position: relative;}#sk-container-id-1 div.sk-item::before, #sk-container-id-1 div.sk-parallel-item::before {content: \"\";position: absolute;border-left: 1px solid gray;box-sizing: border-box;top: 0;bottom: 0;left: 50%;z-index: -1;}#sk-container-id-1 div.sk-parallel-item {display: flex;flex-direction: column;z-index: 1;position: relative;background-color: white;}#sk-container-id-1 div.sk-parallel-item:first-child::after {align-self: flex-end;width: 50%;}#sk-container-id-1 div.sk-parallel-item:last-child::after {align-self: flex-start;width: 50%;}#sk-container-id-1 div.sk-parallel-item:only-child::after {width: 0;}#sk-container-id-1 div.sk-dashed-wrapped {border: 1px dashed gray;margin: 0 0.4em 0.5em 0.4em;box-sizing: border-box;padding-bottom: 0.4em;background-color: white;}#sk-container-id-1 div.sk-label label {font-family: monospace;font-weight: bold;display: inline-block;line-height: 1.2em;}#sk-container-id-1 div.sk-label-container {text-align: center;}#sk-container-id-1 div.sk-container {/* jupyter's `normalize.less` sets `[hidden] { display: none; }` but bootstrap.min.css set `[hidden] { display: none !important; }` so we also need the `!important` here to be able to override the default hidden behavior on the sphinx rendered scikit-learn.org. See: https://github.com/scikit-learn/scikit-learn/issues/21755 */display: inline-block !important;position: relative;}#sk-container-id-1 div.sk-text-repr-fallback {display: none;}</style><div id=\"sk-container-id-1\" class=\"sk-top-container\"><div class=\"sk-text-repr-fallback\"><pre>LinearRegression()</pre><b>In a Jupyter environment, please rerun this cell to show the HTML representation or trust the notebook. <br />On GitHub, the HTML representation is unable to render, please try loading this page with nbviewer.org.</b></div><div class=\"sk-container\" hidden><div class=\"sk-item\"><div class=\"sk-estimator sk-toggleable\"><input class=\"sk-toggleable__control sk-hidden--visually\" id=\"sk-estimator-id-1\" type=\"checkbox\" checked><label for=\"sk-estimator-id-1\" class=\"sk-toggleable__label sk-toggleable__label-arrow\">LinearRegression</label><div class=\"sk-toggleable__content\"><pre>LinearRegression()</pre></div></div></div></div></div>"
      ],
      "text/plain": [
       "LinearRegression()"
      ]
     },
     "execution_count": 29,
     "metadata": {},
     "output_type": "execute_result"
    }
   ],
   "source": [
    "#  Entrenamos el modelo\n",
    "\n",
    "modelo.fit(X_train,y_train)"
   ]
  },
  {
   "cell_type": "markdown",
   "id": "98099894",
   "metadata": {
    "papermill": {
     "duration": 0.019863,
     "end_time": "2024-10-16T10:00:35.803793",
     "exception": false,
     "start_time": "2024-10-16T10:00:35.783930",
     "status": "completed"
    },
    "tags": []
   },
   "source": [
    "# 7. Validación\n",
    "Evaluar el rendimiento del modelo en datos de validación para evitar sobreajuste y optimizar hiperparámetros."
   ]
  },
  {
   "cell_type": "code",
   "execution_count": 30,
   "id": "dd6f7e4d",
   "metadata": {
    "execution": {
     "iopub.execute_input": "2024-10-16T10:00:35.847429Z",
     "iopub.status.busy": "2024-10-16T10:00:35.846492Z",
     "iopub.status.idle": "2024-10-16T10:00:35.859136Z",
     "shell.execute_reply": "2024-10-16T10:00:35.857768Z"
    },
    "papermill": {
     "duration": 0.03782,
     "end_time": "2024-10-16T10:00:35.861987",
     "exception": false,
     "start_time": "2024-10-16T10:00:35.824167",
     "status": "completed"
    },
    "tags": []
   },
   "outputs": [
    {
     "data": {
      "text/plain": [
       "array([[2.64571708],\n",
       "       [2.73559247],\n",
       "       [2.97554973],\n",
       "       [2.9985415 ],\n",
       "       [3.06251058],\n",
       "       [3.0746248 ],\n",
       "       [3.28911915],\n",
       "       [3.3023089 ],\n",
       "       [3.39364393],\n",
       "       [3.44392736],\n",
       "       [3.43862272],\n",
       "       [3.41787094],\n",
       "       [3.54785885],\n",
       "       [3.73307934],\n",
       "       [3.92137535],\n",
       "       [3.86593134]])"
      ]
     },
     "execution_count": 30,
     "metadata": {},
     "output_type": "execute_result"
    }
   ],
   "source": [
    "# Vamos a calcular las predicciones del modelo con el conjunto de test\n",
    "\n",
    "y_predict = modelo.predict(X_test)\n",
    "y_predict"
   ]
  },
  {
   "cell_type": "code",
   "execution_count": 31,
   "id": "9222d4ee",
   "metadata": {
    "execution": {
     "iopub.execute_input": "2024-10-16T10:00:35.904755Z",
     "iopub.status.busy": "2024-10-16T10:00:35.904204Z",
     "iopub.status.idle": "2024-10-16T10:00:35.914127Z",
     "shell.execute_reply": "2024-10-16T10:00:35.912769Z"
    },
    "papermill": {
     "duration": 0.034284,
     "end_time": "2024-10-16T10:00:35.916893",
     "exception": false,
     "start_time": "2024-10-16T10:00:35.882609",
     "status": "completed"
    },
    "tags": []
   },
   "outputs": [
    {
     "name": "stdout",
     "output_type": "stream",
     "text": [
      "Error porcentual : 8.420149\n"
     ]
    }
   ],
   "source": [
    "# Comparamos con el valor real aplicando métrica de error cuadrático medio\n",
    "\n",
    "from sklearn.metrics import mean_squared_error\n",
    "\n",
    "error = np.sqrt(mean_squared_error(y_test, y_predict))\n",
    "\n",
    "print(\"Error porcentual : %f\" % (error*100))"
   ]
  },
  {
   "cell_type": "code",
   "execution_count": 32,
   "id": "440565a7",
   "metadata": {
    "execution": {
     "iopub.execute_input": "2024-10-16T10:00:35.959586Z",
     "iopub.status.busy": "2024-10-16T10:00:35.959158Z",
     "iopub.status.idle": "2024-10-16T10:00:35.964733Z",
     "shell.execute_reply": "2024-10-16T10:00:35.963487Z"
    },
    "papermill": {
     "duration": 0.030313,
     "end_time": "2024-10-16T10:00:35.967289",
     "exception": false,
     "start_time": "2024-10-16T10:00:35.936976",
     "status": "completed"
    },
    "tags": []
   },
   "outputs": [],
   "source": [
    "# Ahora hay que preguntarse si es posible mejorar el resultado tocando hiperparámetros"
   ]
  },
  {
   "cell_type": "markdown",
   "id": "672f347b",
   "metadata": {
    "papermill": {
     "duration": 0.020027,
     "end_time": "2024-10-16T10:00:36.007472",
     "exception": false,
     "start_time": "2024-10-16T10:00:35.987445",
     "status": "completed"
    },
    "tags": []
   },
   "source": [
    "# 8 Evaluación\n",
    "\n",
    "Probar el modelo con datos de prueba para medir su capacidad de generalización."
   ]
  },
  {
   "cell_type": "code",
   "execution_count": 33,
   "id": "38694363",
   "metadata": {
    "execution": {
     "iopub.execute_input": "2024-10-16T10:00:36.050078Z",
     "iopub.status.busy": "2024-10-16T10:00:36.049542Z",
     "iopub.status.idle": "2024-10-16T10:00:36.065069Z",
     "shell.execute_reply": "2024-10-16T10:00:36.063875Z"
    },
    "papermill": {
     "duration": 0.039974,
     "end_time": "2024-10-16T10:00:36.067826",
     "exception": false,
     "start_time": "2024-10-16T10:00:36.027852",
     "status": "completed"
    },
    "tags": []
   },
   "outputs": [
    {
     "data": {
      "text/html": [
       "<div>\n",
       "<style scoped>\n",
       "    .dataframe tbody tr th:only-of-type {\n",
       "        vertical-align: middle;\n",
       "    }\n",
       "\n",
       "    .dataframe tbody tr th {\n",
       "        vertical-align: top;\n",
       "    }\n",
       "\n",
       "    .dataframe thead th {\n",
       "        text-align: right;\n",
       "    }\n",
       "</style>\n",
       "<table border=\"1\" class=\"dataframe\">\n",
       "  <thead>\n",
       "    <tr style=\"text-align: right;\">\n",
       "      <th></th>\n",
       "      <th>Category</th>\n",
       "      <th>km4week</th>\n",
       "      <th>sp4week</th>\n",
       "      <th>CrossTraining</th>\n",
       "      <th>Wall21</th>\n",
       "    </tr>\n",
       "  </thead>\n",
       "  <tbody>\n",
       "    <tr>\n",
       "      <th>0</th>\n",
       "      <td>1.0</td>\n",
       "      <td>400.0</td>\n",
       "      <td>20.0</td>\n",
       "      <td>0.0</td>\n",
       "      <td>1.4</td>\n",
       "    </tr>\n",
       "  </tbody>\n",
       "</table>\n",
       "</div>"
      ],
      "text/plain": [
       "   Category  km4week  sp4week  CrossTraining  Wall21\n",
       "0       1.0    400.0     20.0            0.0     1.4"
      ]
     },
     "execution_count": 33,
     "metadata": {},
     "output_type": "execute_result"
    }
   ],
   "source": [
    "# Vamos a hacer una predicción para un conjunto de valores concreto\n",
    "\n",
    "nuevo_corredor = pd.DataFrame(np.array([[1,400,20,0,1.4]]),columns=['Category', 'km4week','sp4week', 'CrossTraining','Wall21'])\n",
    "nuevo_corredor"
   ]
  },
  {
   "cell_type": "code",
   "execution_count": 34,
   "id": "464bf46c",
   "metadata": {
    "execution": {
     "iopub.execute_input": "2024-10-16T10:00:36.112849Z",
     "iopub.status.busy": "2024-10-16T10:00:36.112357Z",
     "iopub.status.idle": "2024-10-16T10:00:36.120636Z",
     "shell.execute_reply": "2024-10-16T10:00:36.119407Z"
    },
    "papermill": {
     "duration": 0.034736,
     "end_time": "2024-10-16T10:00:36.123316",
     "exception": false,
     "start_time": "2024-10-16T10:00:36.088580",
     "status": "completed"
    },
    "tags": []
   },
   "outputs": [
    {
     "name": "stdout",
     "output_type": "stream",
     "text": [
      "Tiempo estimado para el corredor: 2.196957 horas\n"
     ]
    }
   ],
   "source": [
    "y = modelo.predict(nuevo_corredor)\n",
    "\n",
    "print('Tiempo estimado para el corredor: %f horas' % y[0])"
   ]
  },
  {
   "cell_type": "markdown",
   "id": "0af7a9a4",
   "metadata": {
    "papermill": {
     "duration": 0.02044,
     "end_time": "2024-10-16T10:00:36.164303",
     "exception": false,
     "start_time": "2024-10-16T10:00:36.143863",
     "status": "completed"
    },
    "tags": []
   },
   "source": [
    "# 8 Despliegue (MLOps)\n",
    "\n",
    "Implementar el modelo en un entorno de producción para hacer predicciones o automatizar decisiones."
   ]
  },
  {
   "cell_type": "code",
   "execution_count": null,
   "id": "2d0f1971",
   "metadata": {
    "papermill": {
     "duration": 0.020141,
     "end_time": "2024-10-16T10:00:36.206607",
     "exception": false,
     "start_time": "2024-10-16T10:00:36.186466",
     "status": "completed"
    },
    "tags": []
   },
   "outputs": [],
   "source": []
  }
 ],
 "metadata": {
  "kaggle": {
   "accelerator": "none",
   "dataSources": [
    {
     "datasetId": 1266,
     "sourceId": 2257,
     "sourceType": "datasetVersion"
    }
   ],
   "dockerImageVersionId": 30786,
   "isGpuEnabled": false,
   "isInternetEnabled": false,
   "language": "python",
   "sourceType": "notebook"
  },
  "kernelspec": {
   "display_name": "Python 3",
   "language": "python",
   "name": "python3"
  },
  "language_info": {
   "codemirror_mode": {
    "name": "ipython",
    "version": 3
   },
   "file_extension": ".py",
   "mimetype": "text/x-python",
   "name": "python",
   "nbconvert_exporter": "python",
   "pygments_lexer": "ipython3",
   "version": "3.10.14"
  },
  "papermill": {
   "default_parameters": {},
   "duration": 12.666891,
   "end_time": "2024-10-16T10:00:36.949872",
   "environment_variables": {},
   "exception": null,
   "input_path": "__notebook__.ipynb",
   "output_path": "__notebook__.ipynb",
   "parameters": {},
   "start_time": "2024-10-16T10:00:24.282981",
   "version": "2.6.0"
  }
 },
 "nbformat": 4,
 "nbformat_minor": 5
}
